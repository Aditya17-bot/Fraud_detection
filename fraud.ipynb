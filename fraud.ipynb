{
  "nbformat": 4,
  "nbformat_minor": 0,
  "metadata": {
    "colab": {
      "provenance": [],
      "authorship_tag": "ABX9TyM9mDWPQ4CW7YevmbX24fJw",
      "include_colab_link": true
    },
    "kernelspec": {
      "name": "python3",
      "display_name": "Python 3"
    },
    "language_info": {
      "name": "python"
    }
  },
  "cells": [
    {
      "cell_type": "markdown",
      "metadata": {
        "id": "view-in-github",
        "colab_type": "text"
      },
      "source": [
        "<a href=\"https://colab.research.google.com/github/Aditya17-bot/Fraud_detection/blob/main/fraud.ipynb\" target=\"_parent\"><img src=\"https://colab.research.google.com/assets/colab-badge.svg\" alt=\"Open In Colab\"/></a>"
      ]
    },
    {
      "cell_type": "code",
      "source": [
        "!pip -q install imbalanced-learn\n",
        "\n",
        "import numpy as np\n",
        "import pandas as pd\n",
        "import matplotlib.pyplot as plt\n",
        "import seaborn as sns\n",
        "\n",
        "from pylab import rcParams\n",
        "rcParams['figure.figsize'] = (14, 8)\n",
        "\n",
        "from sklearn.metrics import classification_report, confusion_matrix, accuracy_score\n",
        "from sklearn.ensemble import RandomForestClassifier\n",
        "from imblearn.over_sampling import SMOTE\n"
      ],
      "metadata": {
        "id": "wlN2eG9ttlZv"
      },
      "execution_count": 1,
      "outputs": []
    },
    {
      "cell_type": "code",
      "source": [
        "train_path = 'fraudTrain.csv'\n",
        "test_path  = 'fraudTest.csv'\n",
        "\n",
        "train_df = pd.read_csv(train_path)\n",
        "test_df  = pd.read_csv(test_path)\n",
        "\n",
        "print(\"Train shape:\", train_df.shape)\n",
        "print(\"Test shape :\", test_df.shape)\n",
        "train_df.head()\n"
      ],
      "metadata": {
        "id": "_QeapJ-4tfbH"
      },
      "execution_count": null,
      "outputs": []
    },
    {
      "cell_type": "code",
      "source": [
        "from sklearn.preprocessing import OneHotEncoder, MinMaxScaler\n",
        "from sklearn.compose import ColumnTransformer\n",
        "\n",
        "# Your columns\n",
        "categorical_cols = ['city', 'merchant', 'category', 'gender']  # strings\n",
        "numeric_cols = ['amount', 'age']  # numbers to scale to 0-1\n",
        "\n",
        "preprocess = ColumnTransformer([\n",
        "    ('cat', OneHotEncoder(handle_unknown='ignore'), categorical_cols),\n",
        "    ('num', MinMaxScaler(), numeric_cols)  # scales to [0,1]\n",
        "])\n",
        "\n",
        "# Fit on train, transform both train and test\n",
        "X_train_processed = preprocess.fit_transform(train_path)\n",
        "X_test_processed = preprocess.transform(test_path)\n"
      ],
      "metadata": {
        "id": "kqI574oTwxV7"
      },
      "execution_count": null,
      "outputs": []
    },
    {
      "cell_type": "code",
      "source": [
        "LABELS = [\"Normal\", \"Fraud\"]\n",
        "\n",
        "ax = train_df['Class'].value_counts().sort_index().plot(kind='bar', rot=0)\n",
        "ax.set_title(\"Transaction Class Distribution (Train)\")\n",
        "ax.set_xlabel(\"Class\")\n",
        "ax.set_ylabel(\"Frequency\")\n",
        "ax.set_xticklabels(LABELS)\n",
        "plt.show()\n",
        "\n",
        "fraud = train_df[train_df['Class'] == 1]\n",
        "normal = train_df[train_df['Class'] == 0]\n",
        "print(\"Fraud, Normal shapes:\", fraud.shape, normal.shape)\n",
        "\n",
        "fig, (ax1, ax2) = plt.subplots(2, 1, sharex=True)\n",
        "fig.suptitle('Amount per transaction by class (Train)')\n",
        "bins = 50\n",
        "ax1.hist(fraud['Amount'], bins=bins); ax1.set_title('Fraud')\n",
        "ax2.hist(normal['Amount'], bins=bins); ax2.set_title('Normal')\n",
        "plt.xlabel('Amount ($)'); plt.ylabel('Count'); plt.yscale('log'); plt.xlim((0, 20000))\n",
        "plt.show()\n"
      ],
      "metadata": {
        "id": "0S2S6NRGtrts"
      },
      "execution_count": null,
      "outputs": []
    },
    {
      "cell_type": "code",
      "source": [
        "target_col = 'Class'\n",
        "feature_cols = [c for c in train_df.columns if c != target_col]\n",
        "\n",
        "X_train_raw = train_df[feature_cols]\n",
        "y_train = train_df[target_col].astype(int)\n",
        "\n",
        "X_test_raw  = test_df[feature_cols]\n",
        "y_test = test_df[target_col].astype(int)\n",
        "\n",
        "# Optional: correlation on numeric columns\n",
        "corr = train_df.select_dtypes(include=[np.number]).corr()\n",
        "plt.figure(figsize=(18, 14))\n",
        "sns.heatmap(corr, cmap='RdYlGn', center=0)\n",
        "plt.title('Correlation (Train)')\n",
        "plt.show()\n",
        "\n",
        "print(\"Train features/labels:\", X_train_raw.shape, y_train.shape)\n",
        "print(\"Test  features/labels:\", X_test_raw.shape, y_test.shape)\n"
      ],
      "metadata": {
        "id": "QfxtiqtAttu4"
      },
      "execution_count": null,
      "outputs": []
    },
    {
      "cell_type": "code",
      "source": [
        "from sklearn.preprocessing import StandardScaler\n",
        "\n",
        "scaler = StandardScaler()\n",
        "X_train_scaled = scaler.fit_transform(X_train_raw)\n",
        "X_test_scaled  = scaler.transform(X_test_raw)\n"
      ],
      "metadata": {
        "id": "DhMDDLG3tvHe"
      },
      "execution_count": null,
      "outputs": []
    },
    {
      "cell_type": "code",
      "source": [
        "from google.colab import drive\n",
        "drive.mount('/content/drive')"
      ],
      "metadata": {
        "id": "rFMLqCsRt4K7"
      },
      "execution_count": null,
      "outputs": []
    },
    {
      "cell_type": "code",
      "source": [
        "smote = SMOTE(random_state=42)\n",
        "X_train_bal, y_train_bal = smote.fit_resample(X_train_scaled, y_train)\n",
        "\n",
        "print(\"Balanced train shapes:\", X_train_bal.shape, y_train_bal.shape)\n",
        "print(\"Balanced class counts:\", np.bincount(y_train_bal))\n"
      ],
      "metadata": {
        "id": "A1qU0xoft9rj"
      },
      "execution_count": null,
      "outputs": []
    },
    {
      "cell_type": "code",
      "source": [
        "rf = RandomForestClassifier(\n",
        "    n_estimators=200,\n",
        "    random_state=42,\n",
        "    class_weight='balanced',\n",
        "    n_jobs=-1\n",
        ")\n",
        "rf.fit(X_train_bal, y_train_bal)\n"
      ],
      "metadata": {
        "id": "piQ8yIw3t-gM"
      },
      "execution_count": null,
      "outputs": []
    },
    {
      "cell_type": "code",
      "source": [
        "y_pred = rf.predict(X_test_scaled)\n",
        "\n",
        "cm = confusion_matrix(y_test, y_pred)\n",
        "print(\"Confusion Matrix:\\n\", cm)\n",
        "print(\"\\nClassification Report:\\n\", classification_report(y_test, y_pred, digits=4))\n",
        "print(\"Accuracy:\", accuracy_score(y_test, y_pred))\n",
        "\n",
        "plt.figure(figsize=(6,5))\n",
        "sns.heatmap(cm, annot=True, fmt='d', cmap='Oranges',\n",
        "            xticklabels=['Normal', 'Fraud'],\n",
        "            yticklabels=['Normal', 'Fraud'])\n",
        "plt.xlabel('Predicted'); plt.ylabel('Actual'); plt.title('Confusion Matrix: Random Forest')\n",
        "plt.show()\n"
      ],
      "metadata": {
        "id": "wD2GE3etuCgW"
      },
      "execution_count": null,
      "outputs": []
    },
    {
      "cell_type": "code",
      "source": [
        "y_scores = rf.predict_proba(X_test_scaled)[:, 1]\n",
        "\n",
        "threshold = 0.50\n",
        "y_pred_thr = (y_scores >= threshold).astype(int)\n",
        "\n",
        "cm_thr = confusion_matrix(y_test, y_pred_thr)\n",
        "print(\"Threshold =\", threshold)\n",
        "print(\"Confusion Matrix:\\n\", cm_thr)\n",
        "print(\"\\nClassification Report:\\n\", classification_report(y_test, y_pred_thr, digits=4))\n"
      ],
      "metadata": {
        "id": "EzTGoM8OuEnc"
      },
      "execution_count": null,
      "outputs": []
    }
  ]
}